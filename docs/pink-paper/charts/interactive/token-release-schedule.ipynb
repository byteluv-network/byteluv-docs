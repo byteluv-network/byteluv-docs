{
 "cells": [
  {
   "cell_type": "code",
   "execution_count": 5,
   "metadata": {},
   "outputs": [],
   "source": [
    "import numpy as np\n",
    "import matplotlib.pyplot as plt"
   ]
  },
  {
   "cell_type": "code",
   "execution_count": null,
   "metadata": {},
   "outputs": [],
   "source": []
  },
  {
   "cell_type": "code",
   "execution_count": 6,
   "metadata": {},
   "outputs": [
    {
     "ename": "NameError",
     "evalue": "name 'games_played_per_day' is not defined",
     "output_type": "error",
     "traceback": [
      "\u001b[0;31m---------------------------------------------------------------------------\u001b[0m",
      "\u001b[0;31mNameError\u001b[0m                                 Traceback (most recent call last)",
      "Cell \u001b[0;32mIn[6], line 16\u001b[0m\n\u001b[1;32m     14\u001b[0m max_rate \u001b[38;5;241m=\u001b[39m \u001b[38;5;241m2\u001b[39m  \u001b[38;5;66;03m# The capped inflation rate per year\u001b[39;00m\n\u001b[1;32m     15\u001b[0m games_per_interval \u001b[38;5;241m=\u001b[39m \u001b[38;5;241m90\u001b[39m  \u001b[38;5;66;03m# 90 game interval\u001b[39;00m\n\u001b[0;32m---> 16\u001b[0m intervals_per_year \u001b[38;5;241m=\u001b[39m (\u001b[43mgames_played_per_day\u001b[49m \u001b[38;5;241m*\u001b[39m days_per_year) \u001b[38;5;241m/\u001b[39m games_per_interval\n\u001b[1;32m     18\u001b[0m \u001b[38;5;66;03m# Recalculate the inflation rates over 10 years based on the new formula\u001b[39;00m\n\u001b[1;32m     19\u001b[0m inflation_rates_new \u001b[38;5;241m=\u001b[39m [\u001b[38;5;28mmin\u001b[39m(initial_rate \u001b[38;5;241m/\u001b[39m np\u001b[38;5;241m.\u001b[39mlog((intervals_per_year \u001b[38;5;241m*\u001b[39m year) \u001b[38;5;241m+\u001b[39m \u001b[38;5;241m2\u001b[39m), max_rate) \u001b[38;5;28;01mfor\u001b[39;00m year \u001b[38;5;129;01min\u001b[39;00m \u001b[38;5;28mrange\u001b[39m(\u001b[38;5;241m1\u001b[39m, years \u001b[38;5;241m+\u001b[39m \u001b[38;5;241m1\u001b[39m)]\n",
      "\u001b[0;31mNameError\u001b[0m: name 'games_played_per_day' is not defined"
     ]
    }
   ],
   "source": []
  }
 ],
 "metadata": {
  "kernelspec": {
   "display_name": "Python 3",
   "language": "python",
   "name": "python3"
  },
  "language_info": {
   "codemirror_mode": {
    "name": "ipython",
    "version": 3
   },
   "file_extension": ".py",
   "mimetype": "text/x-python",
   "name": "python",
   "nbconvert_exporter": "python",
   "pygments_lexer": "ipython3",
   "version": "3.10.12"
  }
 },
 "nbformat": 4,
 "nbformat_minor": 2
}
